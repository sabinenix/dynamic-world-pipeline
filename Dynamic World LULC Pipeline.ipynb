{
 "cells": [
  {
   "cell_type": "markdown",
   "id": "2026ddbe",
   "metadata": {},
   "source": [
    "# Dynamic World LULC Pipeline\n",
    "The dynamic world land cover dataset is available through Google Earth Engine. \n",
    "\n",
    "[Dynamic World V1](https://developers.google.com/earth-engine/datasets/catalog/GOOGLE_DYNAMICWORLD_V1#terms-of-use)\n",
    "\n",
    "[Introduction to Dynamic World Tutorials](https://developers.google.com/earth-engine/tutorials/community/introduction-to-dynamic-world-pt-1)\n",
    "\n",
    "[Earth Engine Access](https://developers.google.com/earth-engine/guides/access)"
   ]
  },
  {
   "cell_type": "markdown",
   "id": "3ca82bf6",
   "metadata": {},
   "source": [
    "## Imports"
   ]
  },
  {
   "cell_type": "code",
   "execution_count": 4,
   "id": "298d15a6",
   "metadata": {},
   "outputs": [
    {
     "data": {
      "text/html": [
       "\n",
       "            <style>\n",
       "                .geemap-dark {\n",
       "                    --jp-widgets-color: white;\n",
       "                    --jp-widgets-label-color: white;\n",
       "                    --jp-ui-font-color1: white;\n",
       "                    --jp-layout-color2: #454545;\n",
       "                    background-color: #383838;\n",
       "                }\n",
       "\n",
       "                .geemap-dark .jupyter-button {\n",
       "                    --jp-layout-color3: #383838;\n",
       "                }\n",
       "\n",
       "                .geemap-colab {\n",
       "                    background-color: var(--colab-primary-surface-color, white);\n",
       "                }\n",
       "\n",
       "                .geemap-colab .jupyter-button {\n",
       "                    --jp-layout-color3: var(--colab-primary-surface-color, white);\n",
       "                }\n",
       "            </style>\n",
       "            "
      ],
      "text/plain": [
       "<IPython.core.display.HTML object>"
      ]
     },
     "metadata": {},
     "output_type": "display_data"
    }
   ],
   "source": [
    "# General imports:\n",
    "import numpy as np\n",
    "import rioxarray as rxr\n",
    "import xarray as xr\n",
    "import matplotlib.pyplot as plt\n",
    "import geopandas as gpd\n",
    "from shapely.geometry import mapping\n",
    "import cartopy.crs as ccrs \n",
    "import os\n",
    "import yaml\n",
    "\n",
    "# Google Earth Engine imports:\n",
    "import ee\n",
    "import geemap\n",
    "from google.auth import default\n",
    "import certifi\n",
    "import ssl"
   ]
  },
  {
   "cell_type": "markdown",
   "id": "93712c71",
   "metadata": {},
   "source": [
    "Prior to running the code below, I created an ee project. In this case, I initialized a free, non-commercial use project. This will need to be addressed as we move forward. The project was created in earth engine, and then the project ID and credentials were established by running the following line in terminal: \n",
    "\n",
    "`earthengine authenticate`\n",
    "\n",
    "This will open a browser window to login to the appropriate Google account. In the case you are already logged into another account, run the following code to reset:"
   ]
  },
  {
   "cell_type": "code",
   "execution_count": null,
   "id": "afb1c210",
   "metadata": {},
   "outputs": [],
   "source": [
    "# import os\n",
    "# import shutil\n",
    "\n",
    "# ee_credentials_path = os.path.expanduser(\"~/.config/earthengine/credentials\")\n",
    "\n",
    "# if os.path.exists(ee_credentials_path): \n",
    "#     shutil.rmtree(os.path.dirname(ee_credentials_path)) \n",
    "#     print(\"Existing Earth Engine credentials removed.\") \n",
    "# else: \n",
    "#     print(\"No existing Earth Engine credentials found.\")"
   ]
  },
  {
   "cell_type": "markdown",
   "id": "ee60e08d",
   "metadata": {},
   "source": [
    "Then if you are using a Mac, you may need to follow the instructions here to install your certificate: https://stackoverflow.com/questions/68275857/urllib-error-urlerror-urlopen-error-ssl-certificate-verify-failed-certifica\n",
    "\n",
    "Following that, restart the kernel and continue:"
   ]
  },
  {
   "cell_type": "code",
   "execution_count": 3,
   "id": "39f932c7",
   "metadata": {},
   "outputs": [
    {
     "data": {
      "text/html": [
       "\n",
       "            <style>\n",
       "                .geemap-dark {\n",
       "                    --jp-widgets-color: white;\n",
       "                    --jp-widgets-label-color: white;\n",
       "                    --jp-ui-font-color1: white;\n",
       "                    --jp-layout-color2: #454545;\n",
       "                    background-color: #383838;\n",
       "                }\n",
       "\n",
       "                .geemap-dark .jupyter-button {\n",
       "                    --jp-layout-color3: #383838;\n",
       "                }\n",
       "\n",
       "                .geemap-colab {\n",
       "                    background-color: var(--colab-primary-surface-color, white);\n",
       "                }\n",
       "\n",
       "                .geemap-colab .jupyter-button {\n",
       "                    --jp-layout-color3: var(--colab-primary-surface-color, white);\n",
       "                }\n",
       "            </style>\n",
       "            "
      ],
      "text/plain": [
       "<IPython.core.display.HTML object>"
      ]
     },
     "metadata": {},
     "output_type": "display_data"
    }
   ],
   "source": [
    "# Create a context using the certifi bundle.\n",
    "context = ssl.create_default_context(cafile=certifi.where())\n",
    "\n",
    "# Run the following code to authenticate. You will be sent to retrieve an API token.\n",
    "ee.Authenticate()\n",
    "\n",
    "# Initialize earth engine and geemap, replacing the project name below with your project name.\n",
    "ee.Initialize(opt_url=\"https://earthengine.googleapis.com\", project=\"dynamic-world-pipeline\")\n",
    "geemap.ee_initialize()\n"
   ]
  },
  {
   "cell_type": "code",
   "execution_count": 16,
   "id": "d7faa67c",
   "metadata": {},
   "outputs": [
    {
     "data": {
      "text/html": [
       "\n",
       "            <style>\n",
       "                .geemap-dark {\n",
       "                    --jp-widgets-color: white;\n",
       "                    --jp-widgets-label-color: white;\n",
       "                    --jp-ui-font-color1: white;\n",
       "                    --jp-layout-color2: #454545;\n",
       "                    background-color: #383838;\n",
       "                }\n",
       "\n",
       "                .geemap-dark .jupyter-button {\n",
       "                    --jp-layout-color3: #383838;\n",
       "                }\n",
       "\n",
       "                .geemap-colab {\n",
       "                    background-color: var(--colab-primary-surface-color, white);\n",
       "                }\n",
       "\n",
       "                .geemap-colab .jupyter-button {\n",
       "                    --jp-layout-color3: var(--colab-primary-surface-color, white);\n",
       "                }\n",
       "            </style>\n",
       "            "
      ],
      "text/plain": [
       "<IPython.core.display.HTML object>"
      ]
     },
     "metadata": {},
     "output_type": "display_data"
    }
   ],
   "source": [
    "\n",
    "def get_boundaries(path):\n",
    "    \"\"\"Given path to geojson, return AOI as an ee Geometry object.\"\"\"\n",
    "\n",
    "    # Load the geojson.\n",
    "    aoi_file = gpd.read_file(path)\n",
    "    \n",
    "    # Convert the GeoPandas geometry to GeoJSON.\n",
    "    aoi_geom = aoi_file.iloc[0].geometry.__geo_interface__\n",
    "    \n",
    "    # Convert to an ee Geometry object.\n",
    "    ee_polygon = ee.Geometry(aoi_geom)\n",
    "        \n",
    "    return(ee_polygon)\n",
    "\n",
    "def get_bbox(path):\n",
    "    \"\"\"Given path to geojson, return AOI bounding box.\"\"\"\n",
    "\n",
    "    # Load the geojson.\n",
    "    aoi_file = gpd.read_file(path)\n",
    "\n",
    "    # Calculate the bounding box [minx, miny, maxx, maxy].\n",
    "    bounds = aoi_file.total_bounds \n",
    "    \n",
    "    # Create an ee.Geometry object from the bounding box.\n",
    "    aoi = ee.Geometry.Rectangle([bounds[0], bounds[1], bounds[2], bounds[3]])\n",
    "    \n",
    "    return(aoi)\n",
    "\n",
    "def fetch_dynamic_world(aoi_path, date, date_buffer, out_dir):\n",
    "    \"\"\"\n",
    "    Function to acquire Dynamic World raster for a specific polygon and date range.\n",
    "    \n",
    "    Inputs:\n",
    "    aoi         : ee.Geometry.Polygon defining the area of interest\n",
    "    date        : specific date to aim for (YYYY-MM-DD)\n",
    "    date_buffer : number of days to buffer date parameter with on either side\n",
    "                  (e.g. start_date = date - date_buffer & \n",
    "                   end_date = date + date_buffer)\n",
    "    \n",
    "    Outputs:\n",
    "    xr_ds : xarray Dataset containing the Dynamic World data composited over time period.\n",
    "    \"\"\"\n",
    "    # Use date_buffer to set the start and end date surrounding date of interest.\n",
    "    start_date = ee.Date(date).advance(-date_buffer, 'day')\n",
    "    end_date = ee.Date(date).advance(date_buffer, 'day')\n",
    "    \n",
    "    # Get aoi bounding box polygon.\n",
    "    aoi = get_bbox(aoi_path)\n",
    "    \n",
    "    # Load the Dynamic World image collection for the aoi and dates of interest.\n",
    "    imcol = (ee.ImageCollection('GOOGLE/DYNAMICWORLD/V1')\n",
    "             .filterBounds(aoi)\n",
    "             .filterDate(start_date, end_date)\n",
    "             .select('label') # 'Label' contains the band index of highest probability land cover class for each pixel.\n",
    "            )\n",
    "\n",
    "    # Get the list of dates in the collection\n",
    "    dates = imcol.aggregate_array('system:time_start').getInfo()\n",
    "    dates = [np.datetime64(ee.Date(date).format('YYYY-MM-dd').getInfo()) for date in dates]\n",
    "    print(f'Dynamic World Data Dates: {dates}')\n",
    "\n",
    "    # Reduce to the most probable land cover type across time period.\n",
    "    dw_composite = imcol.reduce(ee.Reducer.mode())\n",
    "\n",
    "    # Convert ee.Date to human-readable strings\n",
    "    start_date_str = start_date.format('YYYYMMdd').getInfo() \n",
    "    end_date_str = end_date.format('YYYYMMdd').getInfo()\n",
    "\n",
    "    # Construct output file path.\n",
    "    out_path = os.path.join(out_dir, f'dynamic_world_{start_date_str}_{end_date_str}.tif')\n",
    "    \n",
    "    # Export the dynamic world data as a GeoTIFF.\n",
    "    geemap.ee_export_image(dw_composite, filename = out_path, scale = 10, region = aoi)\n",
    "    print(f\"Exported dynamic world composite to {out_path}\")\n",
    "    \n",
    "    return out_path"
   ]
  },
  {
   "cell_type": "code",
   "execution_count": 48,
   "id": "504025cb",
   "metadata": {},
   "outputs": [
    {
     "data": {
      "text/html": [
       "\n",
       "            <style>\n",
       "                .geemap-dark {\n",
       "                    --jp-widgets-color: white;\n",
       "                    --jp-widgets-label-color: white;\n",
       "                    --jp-ui-font-color1: white;\n",
       "                    --jp-layout-color2: #454545;\n",
       "                    background-color: #383838;\n",
       "                }\n",
       "\n",
       "                .geemap-dark .jupyter-button {\n",
       "                    --jp-layout-color3: #383838;\n",
       "                }\n",
       "\n",
       "                .geemap-colab {\n",
       "                    background-color: var(--colab-primary-surface-color, white);\n",
       "                }\n",
       "\n",
       "                .geemap-colab .jupyter-button {\n",
       "                    --jp-layout-color3: var(--colab-primary-surface-color, white);\n",
       "                }\n",
       "            </style>\n",
       "            "
      ],
      "text/plain": [
       "<IPython.core.display.HTML object>"
      ]
     },
     "metadata": {},
     "output_type": "display_data"
    },
    {
     "name": "stdout",
     "output_type": "stream",
     "text": [
      "Dynamic World Data Dates: [np.datetime64('2021-05-19'), np.datetime64('2021-06-13')]\n",
      "Generating URL ...\n",
      "Downloading data from https://earthengine.googleapis.com/v1/projects/dynamic-world-pipeline/thumbnails/16eb80ae8666ac275cd3f959e23adf6c-179cc2ac635d8cdc5e532f16608d6b0d:getPixels\n",
      "Please wait ...\n",
      "Data downloaded to /Users/snix/Documents/2024/Cecil/CodeRepos/dynamic-world-pipeline/outputs/dynamic_world_20210516_20210617.tif\n",
      "Exported dynamic world composite to outputs/dynamic_world_20210516_20210617.tif\n"
     ]
    }
   ],
   "source": [
    "# Set target date of interest.\n",
    "date = '2021-06-01'\n",
    "date_buffer = 16\n",
    "\n",
    "# Read config information from yml file.\n",
    "with open(\"config.yml\", \"r\") as yml:\n",
    "    config = yaml.safe_load(yml)\n",
    "\n",
    "out_dir = config['out-dir']\n",
    "aoi_path = config['aoi-path']\n",
    "\n",
    "# Call function to export dynamic world raster.\n",
    "dynamic_world_tif = fetch_dynamic_world(aoi_path, date, date_buffer, out_dir)"
   ]
  },
  {
   "cell_type": "code",
   "execution_count": 49,
   "id": "b0ecd74d",
   "metadata": {},
   "outputs": [
    {
     "data": {
      "text/html": [
       "\n",
       "            <style>\n",
       "                .geemap-dark {\n",
       "                    --jp-widgets-color: white;\n",
       "                    --jp-widgets-label-color: white;\n",
       "                    --jp-ui-font-color1: white;\n",
       "                    --jp-layout-color2: #454545;\n",
       "                    background-color: #383838;\n",
       "                }\n",
       "\n",
       "                .geemap-dark .jupyter-button {\n",
       "                    --jp-layout-color3: #383838;\n",
       "                }\n",
       "\n",
       "                .geemap-colab {\n",
       "                    background-color: var(--colab-primary-surface-color, white);\n",
       "                }\n",
       "\n",
       "                .geemap-colab .jupyter-button {\n",
       "                    --jp-layout-color3: var(--colab-primary-surface-color, white);\n",
       "                }\n",
       "            </style>\n",
       "            "
      ],
      "text/plain": [
       "<IPython.core.display.HTML object>"
      ]
     },
     "metadata": {},
     "output_type": "display_data"
    },
    {
     "data": {
      "image/png": "[encoded data removed]",
      "text/plain": [
       "<Figure size 640x480 with 1 Axes>"
      ]
     },
     "metadata": {},
     "output_type": "display_data"
    }
   ],
   "source": [
    "import matplotlib.patches as mpatches\n",
    "from matplotlib.colors import ListedColormap, BoundaryNorm\n",
    "\n",
    "# Define the color palette, labels, and corresponding values.\n",
    "colors = ['#419bdf', '#397d49', '#88b053', '#7a87c6', '#e49635', '#dfc35a', '#c4281b', '#a59b8f', '#B39FE1']  \n",
    "labels = ['water', 'trees', 'grass', 'flooded_vegetation', 'crops', 'shrub_and_scrub', 'built', 'bare', 'snow_and_ice']\n",
    "values = [0, 1, 2, 3, 4, 5, 6, 7, 8] \n",
    "\n",
    "# Create a colormap and a normalization based on the values.\n",
    "cmap = ListedColormap(colors)\n",
    "norm = BoundaryNorm(values + [max(values) + 1], cmap.N)  # Ensures correct mapping of values to colors\n",
    "\n",
    "# Open the GeoTIFF using rioxarray.\n",
    "classification = rxr.open_rasterio(dynamic_world_tif)\n",
    "\n",
    "# Plot the dynamic world composite raster.\n",
    "plt.figure()\n",
    "img = classification.plot(cmap=cmap, norm=norm, add_colorbar=False)\n",
    "img.axes.set_aspect('equal')\n",
    "\n",
    "# Read the AOI geojson as geodataframe.\n",
    "aoi_gdf = gpd.read_file(aoi_path)\n",
    "aoi_gdf.boundary.plot(ax=img.axes, edgecolor='black', linewidth=2)\n",
    "\n",
    "# Create a custom legend.\n",
    "patches = [mpatches.Patch(color=colors[i], label=labels[i]) for i in range(len(labels))]\n",
    "plt.legend(handles=patches, bbox_to_anchor=(1.05, 1), loc='upper left')\n",
    "\n",
    "# Show the plot.\n",
    "plt.title('Land Cover Classification')\n",
    "plt.show()\n"
   ]
  },
  {
   "cell_type": "code",
   "execution_count": null,
   "id": "3b43c2a0",
   "metadata": {},
   "outputs": [],
   "source": []
  }
 ],
 "metadata": {
  "kernelspec": {
   "display_name": "dynamic-world",
   "language": "python",
   "name": "python3"
  },
  "language_info": {
   "codemirror_mode": {
    "name": "ipython",
    "version": 3
   },
   "file_extension": ".py",
   "mimetype": "text/x-python",
   "name": "python",
   "nbconvert_exporter": "python",
   "pygments_lexer": "ipython3",
   "version": "3.12.5"
  }
 },
 "nbformat": 4,
 "nbformat_minor": 5
}
