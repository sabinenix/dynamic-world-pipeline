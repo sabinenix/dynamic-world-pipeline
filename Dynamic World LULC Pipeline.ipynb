{
 "cells": [
  {
   "cell_type": "code",
   "execution_count": 1,
   "id": "298d15a6",
   "metadata": {},
   "outputs": [],
   "source": [
    "import numpy as np\n",
    "import rioxarray as rxr\n",
    "import xarray as xr\n",
    "import matplotlib.pyplot as plt\n",
    "import geopandas as gpd\n",
    "from shapely.geometry import mapping\n",
    "import cartopy.crs as ccrs \n",
    "\n",
    "# google earth engine specific \n",
    "import ee\n",
    "import geemap\n",
    "from google.auth import default\n",
    "import certifi\n",
    "import ssl"
   ]
  },
  {
   "cell_type": "markdown",
   "id": "93712c71",
   "metadata": {},
   "source": [
    "Prior to running the code below, I created an ee project. In this case, I initialized a free, non-commercial use project. This will need to be addressed as we move forward. The project was created in earth engine, and then the project ID and credentials were established by running the following line in terminal: \n",
    "\n",
    "`pip install google-auth google-auth-oauthlib google-auth-httplib2`\n",
    "`earthengine authenticate`\n",
    "\n",
    "This will open a browser window to login to the appropriate Google account. In the case you are already logged into another account, run the following code to reset"
   ]
  },
  {
   "cell_type": "code",
   "execution_count": null,
   "id": "afb1c210",
   "metadata": {},
   "outputs": [],
   "source": [
    "import os\n",
    "import shutil\n",
    "\n",
    "ee_credentials_path = os.path.expanduser(\"~/.config/earthengine/credentials\")\n",
    "\n",
    "if os.path.exists(ee_credentials_path): \n",
    "    shutil.rmtree(os.path.dirname(ee_credentials_path)) \n",
    "    print(\"Existing Earth Engine credentials removed.\") \n",
    "else: \n",
    "    print(\"No existing Earth Engine credentials found.\")"
   ]
  },
  {
   "cell_type": "markdown",
   "id": "ee60e08d",
   "metadata": {},
   "source": [
    "Then if you are using a Mac, you may need to follow the instructions here to install your certificate: https://stackoverflow.com/questions/68275857/urllib-error-urlerror-urlopen-error-ssl-certificate-verify-failed-certifica\n",
    "\n",
    "Following that, restart the kernel and continue"
   ]
  },
  {
   "cell_type": "code",
   "execution_count": 2,
   "id": "39f932c7",
   "metadata": {},
   "outputs": [
    {
     "data": {
      "text/html": [
       "\n",
       "            <style>\n",
       "                .geemap-dark {\n",
       "                    --jp-widgets-color: white;\n",
       "                    --jp-widgets-label-color: white;\n",
       "                    --jp-ui-font-color1: white;\n",
       "                    --jp-layout-color2: #454545;\n",
       "                    background-color: #383838;\n",
       "                }\n",
       "\n",
       "                .geemap-dark .jupyter-button {\n",
       "                    --jp-layout-color3: #383838;\n",
       "                }\n",
       "\n",
       "                .geemap-colab {\n",
       "                    background-color: var(--colab-primary-surface-color, white);\n",
       "                }\n",
       "\n",
       "                .geemap-colab .jupyter-button {\n",
       "                    --jp-layout-color3: var(--colab-primary-surface-color, white);\n",
       "                }\n",
       "            </style>\n",
       "            "
      ],
      "text/plain": [
       "<IPython.core.display.HTML object>"
      ]
     },
     "metadata": {},
     "output_type": "display_data"
    }
   ],
   "source": [
    "# Create a context using the certifi bundle\n",
    "context = ssl.create_default_context(cafile=certifi.where())\n",
    "\n",
    "# Run the following code to authenticate. You will be sent to retrieve an API token\n",
    "ee.Authenticate()\n",
    "\n",
    "# Initialize both earth engine and geemap\n",
    "ee.Initialize(opt_url=\"https://earthengine.googleapis.com\", project=\"dynamic-world-pipeline\")\n",
    "geemap.ee_initialize()\n"
   ]
  },
  {
   "cell_type": "code",
   "execution_count": 24,
   "id": "d7faa67c",
   "metadata": {},
   "outputs": [
    {
     "data": {
      "text/html": [
       "\n",
       "            <style>\n",
       "                .geemap-dark {\n",
       "                    --jp-widgets-color: white;\n",
       "                    --jp-widgets-label-color: white;\n",
       "                    --jp-ui-font-color1: white;\n",
       "                    --jp-layout-color2: #454545;\n",
       "                    background-color: #383838;\n",
       "                }\n",
       "\n",
       "                .geemap-dark .jupyter-button {\n",
       "                    --jp-layout-color3: #383838;\n",
       "                }\n",
       "\n",
       "                .geemap-colab {\n",
       "                    background-color: var(--colab-primary-surface-color, white);\n",
       "                }\n",
       "\n",
       "                .geemap-colab .jupyter-button {\n",
       "                    --jp-layout-color3: var(--colab-primary-surface-color, white);\n",
       "                }\n",
       "            </style>\n",
       "            "
      ],
      "text/plain": [
       "<IPython.core.display.HTML object>"
      ]
     },
     "metadata": {},
     "output_type": "display_data"
    }
   ],
   "source": [
    "def get_boundaries(path):\n",
    "    # given path to geojson file, return AOI polygon\n",
    "\n",
    "    # load the file\n",
    "    aoi_file = gpd.read_file(path)\n",
    "    \n",
    "    # convert the GeoPandas geometry to GeoJSON format\n",
    "    aoi_geom = aoi_file.iloc[0].geometry.__geo_interface__\n",
    "    \n",
    "    ee_polygon = ee.Geometry(aoi_geom)\n",
    "        \n",
    "    return(ee_polygon)\n",
    "\n",
    "def get_bbox(path):\n",
    "    # given path to geojson file, return AOI\n",
    "\n",
    "    # load the file\n",
    "    aoi_file = gpd.read_file(path)\n",
    "\n",
    "    # calculate the bounding box \n",
    "    bounds = aoi_file.total_bounds  # [minx, miny, maxx, maxy]\n",
    "    \n",
    "    # Create an ee.Geometry object from the bounding box\n",
    "    aoi = ee.Geometry.Rectangle([bounds[0], bounds[1], bounds[2], bounds[3]])\n",
    "    \n",
    "    return(aoi)\n",
    "\n",
    "def fetch_dynamic_world(aoi_path, date):\n",
    "    \"\"\"\n",
    "    Function to acquire Dynamic World raster for a specific polygon and date.\n",
    "    \n",
    "    Input:\n",
    "    aoi   : ee.Geometry.Polygon defining the area of interest\n",
    "    date  : specific date to aim for (YYYY-MM-DD)\n",
    "    \n",
    "    Output:\n",
    "    xr_ds : xarray Dataset containing the Dynamic World data for the nearest date +/- 10 days\n",
    "    \"\"\"\n",
    "    # Define the date range around the specified date\n",
    "    start_date = ee.Date(date).advance(-60, 'day')\n",
    "    end_date = ee.Date(date).advance(60, 'day')\n",
    "    \n",
    "    # get aoi polygon\n",
    "    aoi = get_bbox(aoi_path)\n",
    "    \n",
    "    # Load the Dynamic World image collection\n",
    "    imcol = (ee.ImageCollection('GOOGLE/DYNAMICWORLD/V1')\n",
    "             .filterBounds(aoi)\n",
    "             .filterDate(start_date, end_date)\n",
    "             .select('label')\n",
    "            )\n",
    "    # make sure the projection matches our expected one from geojson\n",
    "    #imcol = imcol.map(lambda img: img.reproject(crs='EPSG:4326', scale=10))\n",
    "        \n",
    "    # function to identify nearest date\n",
    "    #def nearest(items, pivot):\n",
    "        #return min(items, key=lambda x: abs(x - pivot))\n",
    "\n",
    "    # Get the list of dates in the collection\n",
    "    #dates = imcol.aggregate_array('system:time_start').getInfo()\n",
    "    #dates = [np.datetime64(ee.Date(date).format('YYYY-MM-dd').getInfo()) for date in dates]\n",
    "    #print(f'dates: {dates}')\n",
    "\n",
    "    #nearest_date = nearest(dates, np.datetime64(date))\n",
    "    #print(f'nearest date: {nearest_date}')\n",
    "\n",
    "    #one_day_dw = imcol.filterDate(\n",
    "            #str(nearest_date), str(nearest_date + np.timedelta64(1, 'D')))\n",
    "    \n",
    "    #print(f'one day dw: {one_day_dw}')\n",
    "\n",
    "    # Reduce to the most probable land cover type\n",
    "    most_probable = imcol.reduce(ee.Reducer.mode())\n",
    "\n",
    "    #dwComposite = classification.reduce(ee.Reducer.mode())  \n",
    "    \n",
    "    # Convert the image to an xarray.Dataset\n",
    "    #xr_ds = geemap.ee_to_xarray(most_probable)\n",
    "\n",
    "    # Export the image as GeoTIFF\n",
    "    geemap.ee_export_image(most_probable, filename='dynamic_world_aoi.tif', scale=10, region=aoi)\n",
    "    \n",
    "    #return(one_day_dw, most_probable.clip(aoi))\n",
    "    return 'dynamic_world_aoi.tif'"
   ]
  },
  {
   "cell_type": "code",
   "execution_count": 25,
   "id": "504025cb",
   "metadata": {},
   "outputs": [
    {
     "data": {
      "text/html": [
       "\n",
       "            <style>\n",
       "                .geemap-dark {\n",
       "                    --jp-widgets-color: white;\n",
       "                    --jp-widgets-label-color: white;\n",
       "                    --jp-ui-font-color1: white;\n",
       "                    --jp-layout-color2: #454545;\n",
       "                    background-color: #383838;\n",
       "                }\n",
       "\n",
       "                .geemap-dark .jupyter-button {\n",
       "                    --jp-layout-color3: #383838;\n",
       "                }\n",
       "\n",
       "                .geemap-colab {\n",
       "                    background-color: var(--colab-primary-surface-color, white);\n",
       "                }\n",
       "\n",
       "                .geemap-colab .jupyter-button {\n",
       "                    --jp-layout-color3: var(--colab-primary-surface-color, white);\n",
       "                }\n",
       "            </style>\n",
       "            "
      ],
      "text/plain": [
       "<IPython.core.display.HTML object>"
      ]
     },
     "metadata": {},
     "output_type": "display_data"
    },
    {
     "name": "stdout",
     "output_type": "stream",
     "text": [
      "Generating URL ...\n",
      "Downloading data from https://earthengine.googleapis.com/v1/projects/dynamic-world-pipeline/thumbnails/8609ee70164160bc976c1259ea073b41-8ae5bf39082217653f4e1ea5d9037db3:getPixels\n",
      "Please wait ...\n",
      "Data downloaded to /Users/snix/Documents/2024/Cecil/dynamic-world-pipeline/dynamic_world_aoi.tif\n"
     ]
    }
   ],
   "source": [
    "# set date\n",
    "# note that DW does not have regular date intervals, so we just select the nearest date\n",
    "date = '2021-06-02'\n",
    "\n",
    "geojson_path = \"/Users/snix/Documents/2024/Cecil/AOISimplification/AOIs/reesets/st_aidans_boundary_reserve/aoi.geojson\"\n",
    "\n",
    "# call data\n",
    "dynamic_world_tif = fetch_dynamic_world(geojson_path, date)"
   ]
  },
  {
   "cell_type": "code",
   "execution_count": 27,
   "id": "b0ecd74d",
   "metadata": {},
   "outputs": [
    {
     "data": {
      "text/html": [
       "\n",
       "            <style>\n",
       "                .geemap-dark {\n",
       "                    --jp-widgets-color: white;\n",
       "                    --jp-widgets-label-color: white;\n",
       "                    --jp-ui-font-color1: white;\n",
       "                    --jp-layout-color2: #454545;\n",
       "                    background-color: #383838;\n",
       "                }\n",
       "\n",
       "                .geemap-dark .jupyter-button {\n",
       "                    --jp-layout-color3: #383838;\n",
       "                }\n",
       "\n",
       "                .geemap-colab {\n",
       "                    background-color: var(--colab-primary-surface-color, white);\n",
       "                }\n",
       "\n",
       "                .geemap-colab .jupyter-button {\n",
       "                    --jp-layout-color3: var(--colab-primary-surface-color, white);\n",
       "                }\n",
       "            </style>\n",
       "            "
      ],
      "text/plain": [
       "<IPython.core.display.HTML object>"
      ]
     },
     "metadata": {},
     "output_type": "display_data"
    },
    {
     "data": {
      "image/png": "[encoded data removed]",
      "text/plain": [
       "<Figure size 1000x600 with 1 Axes>"
      ]
     },
     "metadata": {},
     "output_type": "display_data"
    }
   ],
   "source": [
    "import rioxarray as rxr\n",
    "import matplotlib.pyplot as plt\n",
    "import matplotlib.patches as mpatches\n",
    "from matplotlib.colors import ListedColormap, BoundaryNorm\n",
    "\n",
    "# Define the color palette, labels, and corresponding values\n",
    "colors = ['#419bdf', '#397d49', '#88b053', '#7a87c6', '#e49635', '#dfc35a', '#c4281b', '#a59b8f', '#808080']  # Gray for snow_and_ice\n",
    "labels = ['water', 'trees', 'grass', 'flooded_vegetation', 'crops', 'shrub_and_scrub', 'built', 'bare', 'snow_and_ice']\n",
    "values = [0, 1, 2, 3, 4, 5, 6, 7, 8]  # Raster values that correspond to each land cover type\n",
    "\n",
    "# Create a colormap and a normalization based on the values\n",
    "cmap = ListedColormap(colors)\n",
    "norm = BoundaryNorm(values + [max(values) + 1], cmap.N)  # Ensures correct mapping of values to colors\n",
    "\n",
    "# Open the GeoTIFF using rioxarray\n",
    "classification = rxr.open_rasterio(dynamic_world_tif)\n",
    "\n",
    "# Plot the classification raster\n",
    "plt.figure(figsize=(10, 6))\n",
    "img = classification.plot(cmap=cmap, norm=norm, add_colorbar=False)\n",
    "\n",
    "# Create a custom legend\n",
    "patches = [mpatches.Patch(color=colors[i], label=labels[i]) for i in range(len(labels))]\n",
    "plt.legend(handles=patches, bbox_to_anchor=(1.05, 1), loc='upper left')\n",
    "\n",
    "# Show the plot\n",
    "plt.title('Land Cover Classification')\n",
    "plt.show()\n"
   ]
  },
  {
   "cell_type": "code",
   "execution_count": null,
   "id": "3b1a595a",
   "metadata": {},
   "outputs": [],
   "source": [
    "xrs"
   ]
  },
  {
   "cell_type": "code",
   "execution_count": null,
   "id": "cc618e0b",
   "metadata": {},
   "outputs": [],
   "source": [
    "# Convert dataset to xarray and rename x and  y dims.\n",
    "xrs = geemap.ee_to_xarray(xr_ds)\n",
    "xrs = xrs.rename({'lat': 'y', 'lon': 'x'})\n",
    "xrs"
   ]
  },
  {
   "cell_type": "code",
   "execution_count": null,
   "id": "17566eb0",
   "metadata": {},
   "outputs": [],
   "source": [
    "# Load the AOI file. \n",
    "aoi_file = gpd.read_file(geojson_path)\n",
    "\n",
    "# Calculate the bounding box. \n",
    "bounds = aoi_file.total_bounds  # [minx, miny, maxx, maxy]\n",
    "\n",
    "# Clip the dataset to the bounds of the AOI.\n",
    "clipped = xrs.rio.clip(aoi_file.geometry.apply(mapping), aoi_file.crs)"
   ]
  },
  {
   "cell_type": "code",
   "execution_count": null,
   "id": "2861e5ae",
   "metadata": {},
   "outputs": [],
   "source": [
    "xrs"
   ]
  },
  {
   "cell_type": "code",
   "execution_count": null,
   "id": "f7bf681e",
   "metadata": {},
   "outputs": [],
   "source": []
  }
 ],
 "metadata": {
  "kernelspec": {
   "display_name": "dynamic-world",
   "language": "python",
   "name": "python3"
  },
  "language_info": {
   "codemirror_mode": {
    "name": "ipython",
    "version": 3
   },
   "file_extension": ".py",
   "mimetype": "text/x-python",
   "name": "python",
   "nbconvert_exporter": "python",
   "pygments_lexer": "ipython3",
   "version": "3.12.5"
  }
 },
 "nbformat": 4,
 "nbformat_minor": 5
}
